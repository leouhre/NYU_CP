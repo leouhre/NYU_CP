{
 "cells": [
  {
   "cell_type": "code",
   "execution_count": 1,
   "id": "197c6db1",
   "metadata": {},
   "outputs": [],
   "source": [
    "import numpy as np\n",
    "import matplotlib.pyplot as plt\n",
    "plt.style.use('paper.mplstyle')"
   ]
  },
  {
   "cell_type": "markdown",
   "id": "0326211e",
   "metadata": {},
   "source": [
    "# Exercise 10.11"
   ]
  },
  {
   "cell_type": "code",
   "execution_count": 2,
   "id": "3254f0f0",
   "metadata": {},
   "outputs": [],
   "source": [
    "def f(x):\n",
    "    return 1 - np.exp(-2*x)"
   ]
  },
  {
   "cell_type": "code",
   "execution_count": 23,
   "id": "608b4ab9",
   "metadata": {},
   "outputs": [
    {
     "name": "stdout",
     "output_type": "stream",
     "text": [
      "Iter. \t Value \t \t Error Estimate\n",
      "0 \t -1.000000 \t 1.000000\n",
      "1 \t -6.389056 \t 5.047503\n",
      "2 \t -354374.440984 \t 354367.551939\n",
      "3 \t -inf \t inf\n",
      "4 \t -inf \t nan\n"
     ]
    },
    {
     "name": "stderr",
     "output_type": "stream",
     "text": [
      "C:\\Users\\leouh\\AppData\\Local\\Temp\\ipykernel_5536\\3970693967.py:2: RuntimeWarning: overflow encountered in exp\n",
      "  return 1 - np.exp(-2*x)\n",
      "C:\\Users\\leouh\\AppData\\Local\\Temp\\ipykernel_5536\\3287693053.py:10: RuntimeWarning: overflow encountered in exp\n",
      "  error_estimate = (x_prev - x)/(1 - 1/(-2*np.exp(-2*x_prev)))\n",
      "C:\\Users\\leouh\\AppData\\Local\\Temp\\ipykernel_5536\\3287693053.py:10: RuntimeWarning: invalid value encountered in scalar subtract\n",
      "  error_estimate = (x_prev - x)/(1 - 1/(-2*np.exp(-2*x_prev)))\n"
     ]
    }
   ],
   "source": [
    "x_prev = -1\n",
    "count = 0\n",
    "error_estimate = True\n",
    "\n",
    "print(f\"Iter. \\t Value \\t \\t Error Estimate\")\n",
    "print(f\"{count} \\t {x_prev:.6f} \\t {error_estimate:.6f}\")\n",
    "\n",
    "while(np.abs(error_estimate) > 1e-6):\n",
    "    x = f(x_prev)\n",
    "    error_estimate = (x_prev - x)/(1 - 1/(-2*np.exp(-2*x_prev)))\n",
    "    x_prev = x\n",
    "    count += 1\n",
    "    print(f\"{count} \\t {x:.6f} \\t {error_estimate:.6f}\")"
   ]
  },
  {
   "cell_type": "code",
   "execution_count": 38,
   "id": "305be2c8",
   "metadata": {},
   "outputs": [
    {
     "name": "stdout",
     "output_type": "stream",
     "text": [
      "Iter. \t Value \t \t Error Estimate\n",
      "0 \t -1.000000 \t 1.000000\n",
      "1 \t -10.161395 \t 7.667714\n",
      "2 \t -1139002799.981487 \t 1139002786.986758\n",
      "3 \t -inf \t inf\n",
      "4 \t nan \t nan\n"
     ]
    },
    {
     "name": "stderr",
     "output_type": "stream",
     "text": [
      "C:\\Users\\leouh\\AppData\\Local\\Temp\\ipykernel_5536\\3970693967.py:2: RuntimeWarning: overflow encountered in exp\n",
      "  return 1 - np.exp(-2*x)\n",
      "C:\\Users\\leouh\\AppData\\Local\\Temp\\ipykernel_5536\\473782932.py:11: RuntimeWarning: overflow encountered in exp\n",
      "  error_estimate = (x_prev - x)/(1 - 1/((1 - w) * -2 * np.exp(-2*x_prev) - w))\n",
      "C:\\Users\\leouh\\AppData\\Local\\Temp\\ipykernel_5536\\473782932.py:10: RuntimeWarning: invalid value encountered in scalar subtract\n",
      "  x = (1 + w) * f(x_prev) - w * x_prev\n"
     ]
    }
   ],
   "source": [
    "x_prev = -1\n",
    "w = 0.7\n",
    "count = 0\n",
    "error_estimate = True\n",
    "\n",
    "print(f\"Iter. \\t Value \\t \\t Error Estimate\")\n",
    "print(f\"{count} \\t {x_prev:.6f} \\t {error_estimate:.6f}\")\n",
    "\n",
    "while(np.abs(error_estimate) > 1e-6):\n",
    "    x = (1 + w) * f(x_prev) - w * x_prev\n",
    "    error_estimate = (x_prev - x)/(1 - 1/((1 - w) * -2 * np.exp(-2*x_prev) - w))\n",
    "    x_prev = x\n",
    "    count += 1\n",
    "    print(f\"{count} \\t {x:.6f} \\t {error_estimate:.6f}\")"
   ]
  },
  {
   "cell_type": "markdown",
   "id": "a3534b2a",
   "metadata": {},
   "source": [
    "# Exercise 10.13"
   ]
  },
  {
   "cell_type": "code",
   "execution_count": 41,
   "id": "a57c1f3b",
   "metadata": {},
   "outputs": [],
   "source": [
    "def binary_search(f, x1, x2, accuracy, target, count=0):\n",
    "    count += 1\n",
    "    if np.sign(f(x1)) == np.sign(f(x2)):\n",
    "        raise ValueError(\"f(x1) and f(x2) must have different signs\")\n",
    "    mid = (x1 + x2) / 2\n",
    "    if np.abs(f(mid) - target) < accuracy:\n",
    "        return mid, count\n",
    "    elif np.sign(f(mid)) == np.sign(f(x1)):\n",
    "        return binary_search(f, mid, x2, accuracy, target, count)\n",
    "    else:\n",
    "        return binary_search(f, x1, mid, accuracy, target, count)"
   ]
  },
  {
   "cell_type": "code",
   "execution_count": 42,
   "id": "841e25c1",
   "metadata": {},
   "outputs": [],
   "source": [
    "def f3(x):\n",
    "    return 5*np.exp(-x) + x - 5"
   ]
  },
  {
   "cell_type": "code",
   "execution_count": 101,
   "id": "4897ad76",
   "metadata": {},
   "outputs": [
    {
     "data": {
      "text/plain": [
       "(2.384185791015625e-07, 4.965113878250122, 22, 22)"
      ]
     },
     "execution_count": 101,
     "metadata": {},
     "output_type": "execute_result"
    }
   ],
   "source": [
    "x, count = binary_search(f3, -2, 1, 1e-6, 0)\n",
    "x2, count2 = binary_search(f3, 1, 10, 1e-6, 0)\n",
    "\n",
    "x, x2, count, count2"
   ]
  },
  {
   "cell_type": "code",
   "execution_count": 100,
   "id": "03c8a8ba",
   "metadata": {},
   "outputs": [
    {
     "data": {
      "image/png": "[encoded data removed]",
      "text/plain": [
       "<Figure size 460.8x216 with 1 Axes>"
      ]
     },
     "metadata": {
      "needs_background": "light"
     },
     "output_type": "display_data"
    }
   ],
   "source": [
    "plt.axhline(0, color='k', ls='--')\n",
    "plt.plot(np.linspace(-2, 10.5, 1000), f3(np.linspace(-2, 10.5, 1000)), label='$f(x)$')\n",
    "plt.axvline(1, color='grey', ls='--', label='Interval Boundaries')\n",
    "plt.axvline(-2, color='grey', ls='--')\n",
    "plt.axvline(1, color='grey', ls='--')\n",
    "plt.axvline(10, color='grey', ls='--')\n",
    "plt.scatter(x, f3(x), color='r', s=25, label='Roots')\n",
    "plt.scatter(x2, f3(x2), color='r', s=25)\n",
    "plt.ylim(-2.8, 5.3)\n",
    "plt.xlim(-2.5, 10.5)\n",
    "plt.xlabel('$x$')\n",
    "plt.ylabel('$f(x)$')\n",
    "plt.legend()\n",
    "plt.savefig('HW2_figures/f3_plot.png', dpi=300, bbox_inches='tight')"
   ]
  },
  {
   "cell_type": "code",
   "execution_count": 45,
   "id": "4b54fc74",
   "metadata": {},
   "outputs": [
    {
     "data": {
      "text/plain": [
       "0.0028977712212365256"
      ]
     },
     "execution_count": 45,
     "metadata": {},
     "output_type": "execute_result"
    }
   ],
   "source": [
    "kB = 1.380649e-23\n",
    "h = 6.626068e-34\n",
    "c = 2.99792458e8\n",
    "b = h*c/(kB*x)\n",
    "b"
   ]
  },
  {
   "cell_type": "code",
   "execution_count": 47,
   "id": "a5ffd8c9",
   "metadata": {},
   "outputs": [
    {
     "data": {
      "text/plain": [
       "5772.45263194527"
      ]
     },
     "execution_count": 47,
     "metadata": {},
     "output_type": "execute_result"
    }
   ],
   "source": [
    "T = b/502e-9\n",
    "T"
   ]
  },
  {
   "cell_type": "markdown",
   "id": "38895bd8",
   "metadata": {},
   "source": [
    "# Exercise 3"
   ]
  },
  {
   "cell_type": "code",
   "execution_count": null,
   "id": "9a5fcdd8",
   "metadata": {},
   "outputs": [],
   "source": [
    "### Numerical derivative from HW1\n",
    "def central_difference(f, x, h):\n",
    "    return (f(x + h) - f(x - h)) / (2 * h)\n",
    "\n",
    "### Gradient of two-dimensional function\n",
    "def gradient(f, x, y):\n",
    "    dfdx = central_difference(lambda x: f(x, y), x, 1e-4) # Partial derivative w.r.t. x\n",
    "    dfdy = central_difference(lambda y: f(x, y), y, 1e-4) # Partial derivative w.r.t. y\n",
    "    return np.array([dfdx, dfdy])\n",
    "\n",
    "### Gradient descent algorithm\n",
    "def gradient_descent(f, x0, y0, gamma, tolerance, max_iterations):\n",
    "    x, y = x0, y0 # Initial guess\n",
    "    for i in range(max_iterations):\n",
    "        grad = gradient(f, x, y) # Compute gradient\n",
    "        x_new = x - gamma * grad[0] # Update x\n",
    "        y_new = y - gamma * grad[1] # Update y\n",
    "        if np.linalg.norm(np.array([(x_new - x), (y_new - y)])) < tolerance: # Convergence check\n",
    "            break\n",
    "        x, y = x_new, y_new # Gradient descent update\n",
    "    return x, y, i\n",
    "\n",
    "### Test function\n",
    "def f_test(x, y):\n",
    "    return (x - 2)**2 + (y - 2)**2"
   ]
  },
  {
   "cell_type": "code",
   "execution_count": null,
   "id": "ea67b5df",
   "metadata": {},
   "outputs": [
    {
     "data": {
      "text/plain": [
       "(2.0000005119999997, 1.9999994879999998, 9)"
      ]
     },
     "execution_count": 9,
     "metadata": {},
     "output_type": "execute_result"
    }
   ],
   "source": [
    "### Test the algorithm and play with parameters to optimize performance\n",
    "gradient_descent(f_test, 3, 1, 0.4, 1e-6, 1000)"
   ]
  },
  {
   "cell_type": "code",
   "execution_count": 143,
   "id": "22391886",
   "metadata": {},
   "outputs": [
    {
     "data": {
      "image/png": "[encoded data removed]",
      "text/plain": [
       "<Figure size 230.4x216 with 1 Axes>"
      ]
     },
     "metadata": {
      "needs_background": "light"
     },
     "output_type": "display_data"
    }
   ],
   "source": [
    "### Plot results\n",
    "fig = plt.figure(figsize=(3.2,3))\n",
    "x0s = np.linspace(-10, 11, 21)\n",
    "y0s = np.ones_like(x0s) * 3\n",
    "iterations = np.array([gradient_descent(f_test, x0, y0, 0.4, 1e-6, 1000)[2] for x0, y0 in zip(x0s, y0s)])\n",
    "y0s_2 = np.ones_like(x0s) * -10\n",
    "iterations_2 = np.array([gradient_descent(f_test, x0, y0, 0.4, 1e-6, 1000)[2] for x0, y0 in zip(x0s, y0s_2)])\n",
    "plt.plot(x0s, iterations, '-', label=r'$y_0 = 3$')\n",
    "plt.plot(x0s, iterations_2, '-', label=r'$y_0 = -10$')\n",
    "plt.xlabel(r'$x_0$')\n",
    "plt.ylabel(r'Iterations')\n",
    "plt.yticks([9,10,11])\n",
    "# plt.title(r'Gradient Descent Convergence')\n",
    "plt.legend()\n",
    "plt.savefig('HW2_figures/gradient_descent_convergence.png', bbox_inches='tight')\n",
    "plt.show()"
   ]
  },
  {
   "cell_type": "code",
   "execution_count": 21,
   "id": "db75a41a",
   "metadata": {},
   "outputs": [],
   "source": [
    "### Load data\n",
    "data = np.loadtxt('smf_cosmos.dat', unpack=True)\n",
    "log_M_gal, n, error = data\n",
    "\n",
    "### Calculate the stellar mass function in linear space but pass parameters in log space\n",
    "def Schechter(log_M_gal, log_phi_star, log_M_star, alpha):\n",
    "    phi_star = np.power(10,log_phi_star)\n",
    "    M_star = np.power(10,log_M_star)\n",
    "    M_gal = np.power(10,log_M_gal)\n",
    "    return phi_star*np.power(M_gal/M_star,alpha+1)*np.exp(-M_gal/M_star)*np.log(10)\n",
    "\n",
    "def chi_squared(params, x, y, error):\n",
    "    model = Schechter(x, *params)\n",
    "    chi2 = np.sum(((y - model) / error) ** 2)\n",
    "    return chi2\n",
    "\n",
    "### We have to re-write the gradient descent function a little to handle 3 parameters and the fact that chi^2 \n",
    "### itself takes a function and data as input\n",
    "def gradient_descent_2(vec_init, gamma, tolerance, max_iterations, h_init):\n",
    "    chi2_values = []\n",
    "    vec_prev = vec_init\n",
    "    h = h_init\n",
    "\n",
    "    for i in range(max_iterations):\n",
    "        f_prev = Schechter(log_M_gal, *vec_prev) # This is f(x_{i-1})\n",
    "        const = (n - f_prev) / error**2 # This is (y_i - f(x_{i-1}))/sigma_i^2 to be used in gradient calculation\n",
    "        grad = np.zeros(3) # Prepare gradient array\n",
    "\n",
    "        for j in range(3):\n",
    "            params = vec_prev.copy() # Prepare parameter array for partial derivative\n",
    "            params[j] += h # Increment the jth parameter by h\n",
    "            f = Schechter(log_M_gal, *params)\n",
    "            grad[j] = -2 * np.sum(const * (f - f_prev) / h) # Gradient component for jth parameter\n",
    "\n",
    "        chi2_values.append(chi_squared(vec_prev, log_M_gal, n, error))\n",
    "        vec = vec_prev - gamma * grad # Gradient descent update\n",
    "\n",
    "        if np.linalg.norm(vec - vec_prev) < tolerance: # Convergence check\n",
    "            break\n",
    "\n",
    "        vec_prev = vec # Update previous parameters\n",
    "    return vec, chi2_values, i"
   ]
  },
  {
   "cell_type": "code",
   "execution_count": 103,
   "id": "55936a5d",
   "metadata": {},
   "outputs": [],
   "source": [
    "res = gradient_descent_2(np.array([-3.2, 9, -0.7]), 1e-4, 1e-4, 1000, 0.5)\n",
    "res2 = gradient_descent_2(np.array([-2.1, 10, -0.2]), 1e-4, 1e-4, 1000, 0.5)\n",
    "res3 = gradient_descent_2(np.array([-2.7, 11.2, -1.4]), 1e-4, 1e-4, 1000, 0.5)"
   ]
  },
  {
   "cell_type": "code",
   "execution_count": 144,
   "id": "e0a28a23",
   "metadata": {},
   "outputs": [
    {
     "data": {
      "image/png": "[encoded data removed]",
      "text/plain": [
       "<Figure size 460.8x216 with 1 Axes>"
      ]
     },
     "metadata": {
      "needs_background": "light"
     },
     "output_type": "display_data"
    }
   ],
   "source": [
    "plt.figure(figsize=(6.4,3))\n",
    "plt.plot(np.arange(res[2]+1), res[1], label=r'Init: $[\\log{\\phi^*} = -3.2, \\log{M^*} = 9, \\alpha = -0.7]$')\n",
    "plt.plot(np.arange(res2[2]+1), res2[1], label=r'Init: $[\\log{\\phi^*} = -2.1, \\log{M^*} = 10, \\alpha = -0.2]$')\n",
    "plt.plot(np.arange(res3[2]+1), res3[1], label=r'Init: $[\\log{\\phi^*} = -2.7, \\log{M^*} = 11.2, \\alpha = -1.4]$')\n",
    "plt.yscale('log')\n",
    "plt.xlabel('Iteration')\n",
    "plt.ylabel(r'$\\chi^2$')\n",
    "plt.ylim(1, 1e3)\n",
    "plt.gca().yaxis.set_ticks_position('both')\n",
    "plt.gca().tick_params(axis='y', which='both', right=True, direction='in')\n",
    "plt.gca().tick_params(axis='x', direction='in')\n",
    "plt.legend()\n",
    "# plt.title(r'$\\chi^2$ Convergence for Different Initial Parameters')\n",
    "plt.savefig('HW2_figures/chi2_convergence.png', dpi=300, bbox_inches='tight')\n",
    "plt.show()"
   ]
  },
  {
   "cell_type": "code",
   "execution_count": 145,
   "id": "a0dd0d1c",
   "metadata": {},
   "outputs": [
    {
     "data": {
      "image/png": "[encoded data removed]",
      "text/plain": [
       "<Figure size 230.4x216 with 1 Axes>"
      ]
     },
     "metadata": {
      "needs_background": "light"
     },
     "output_type": "display_data"
    }
   ],
   "source": [
    "### Get best fit parameters and plot\n",
    "res4 = gradient_descent_2(np.array([-2.6, 11, -1.1]), 1e-4, 1e-9, 1000, 0.5)\n",
    "res4[0]\n",
    "\n",
    "plt.figure(figsize=(3.2,3))\n",
    "plt.plot(log_M_gal, np.log10(Schechter(log_M_gal, *res4[0])), '-', color='C3', label='Fitted')\n",
    "plt.errorbar(log_M_gal, np.log10(n), yerr=error/n/np.log(10), fmt='o', color='C4', label='Data')\n",
    "plt.xlabel(r'$\\log{M_\\mathrm{gal}}$ [dex]')\n",
    "plt.ylabel(r'$\\log{n}$ [1/dex/Volume]')\n",
    "plt.xticks([9.5, 10, 10.5, 11, 11.5, 12])\n",
    "plt.legend()\n",
    "# plt.title('Galaxy Stellar Mass Function Fit')\n",
    "plt.savefig('HW2_figures/fit.png', dpi=300, bbox_inches='tight')\n",
    "plt.show()"
   ]
  },
  {
   "cell_type": "code",
   "execution_count": 146,
   "id": "b23ed51d",
   "metadata": {},
   "outputs": [
    {
     "data": {
      "text/plain": [
       "array([-2.58881498, 10.9910845 , -1.02908634])"
      ]
     },
     "execution_count": 146,
     "metadata": {},
     "output_type": "execute_result"
    }
   ],
   "source": [
    "res4[0]"
   ]
  }
 ],
 "metadata": {
  "kernelspec": {
   "display_name": "Python 3",
   "language": "python",
   "name": "python3"
  },
  "language_info": {
   "codemirror_mode": {
    "name": "ipython",
    "version": 3
   },
   "file_extension": ".py",
   "mimetype": "text/x-python",
   "name": "python",
   "nbconvert_exporter": "python",
   "pygments_lexer": "ipython3",
   "version": "3.10.2"
  }
 },
 "nbformat": 4,
 "nbformat_minor": 5
}
